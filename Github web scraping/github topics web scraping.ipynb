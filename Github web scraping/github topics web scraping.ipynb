{
 "cells": [
  {
   "cell_type": "markdown",
   "metadata": {},
   "source": [
    "# Github topics WEB SCRAPING"
   ]
  },
  {
   "cell_type": "markdown",
   "metadata": {},
   "source": [
    "### Github topics containing list of topics which are famous and are contributed in large and maximum scale.\n",
    "Each topic leads to the projects related to that topic which contains information of projects like its description, contributor, directory, recognitions, tags, languages used, etc. Scraping that part and extracting all information of the project in excel sheet is the main goal of the project.\n",
    "\n",
    "#### Scraping website and getting its data stored in a .csv file containing columns having various details of Github topics projects."
   ]
  },
  {
   "cell_type": "markdown",
   "metadata": {},
   "source": [
    "Github famous topics Website: https://github.com/topics"
   ]
  },
  {
   "cell_type": "markdown",
   "metadata": {},
   "source": [
    "Loading the dataset using requests library and then using BeautifulSoup for scraping and parsing the contents of the website."
   ]
  },
  {
   "cell_type": "markdown",
   "metadata": {},
   "source": [
    "Using **requests** module to get data from website on the notebook, **BeautifulSoup** for html parsing and scraping.\n",
    "Also, using **pandas** for converting data to dataframe and using **openpyxl** for making worksheet of the scrapped data in csv format."
   ]
  },
  {
   "cell_type": "markdown",
   "metadata": {},
   "source": [
    "## Installing and importing libraries"
   ]
  },
  {
   "cell_type": "code",
   "execution_count": 1,
   "metadata": {},
   "outputs": [],
   "source": [
    "# Installing libraries\n",
    "\n",
    "!pip install requests --upgrade --quiet\n",
    "!pip install bs4 --upgrade --quiet"
   ]
  },
  {
   "cell_type": "code",
   "execution_count": 2,
   "metadata": {},
   "outputs": [],
   "source": [
    "# Importing necessary libraries for getting website on the notebook and html parsing, scraping.\n",
    "\n",
    "import requests\n",
    "from bs4 import BeautifulSoup"
   ]
  },
  {
   "cell_type": "code",
   "execution_count": null,
   "metadata": {},
   "outputs": [],
   "source": []
  },
  {
   "cell_type": "markdown",
   "metadata": {},
   "source": [
    "## Getting the webpage from requests module"
   ]
  },
  {
   "cell_type": "code",
   "execution_count": 3,
   "metadata": {},
   "outputs": [],
   "source": [
    "# Webpage URL\n",
    "\n",
    "url = \"https://github.com/topics\""
   ]
  },
  {
   "cell_type": "code",
   "execution_count": 4,
   "metadata": {},
   "outputs": [],
   "source": [
    "# Getting the webpage using requests module\n",
    "\n",
    "r = requests.get(url)\n",
    "htmlContent = r.content"
   ]
  },
  {
   "cell_type": "code",
   "execution_count": 5,
   "metadata": {},
   "outputs": [
    {
     "name": "stdout",
     "output_type": "stream",
     "text": [
      "\n",
      "\n",
      "<!DOCTYPE html>\n",
      "<html lang=\"en\" data-color-mode=\"auto\" data-light-theme=\"light\" data-dark-theme=\"d\n",
      "141396\n"
     ]
    }
   ],
   "source": [
    "textContent = r.text\n",
    "print(textContent[:100])\n",
    "print(len(textContent))"
   ]
  },
  {
   "cell_type": "code",
   "execution_count": null,
   "metadata": {},
   "outputs": [],
   "source": []
  },
  {
   "cell_type": "markdown",
   "metadata": {},
   "source": [
    "### Taking website and code locally"
   ]
  },
  {
   "cell_type": "code",
   "execution_count": 6,
   "metadata": {},
   "outputs": [],
   "source": [
    "with open('gittopics.html', 'w', encoding='utf-8') as f:\n",
    "    f.write(textContent)"
   ]
  },
  {
   "cell_type": "code",
   "execution_count": null,
   "metadata": {},
   "outputs": [],
   "source": []
  },
  {
   "cell_type": "markdown",
   "metadata": {},
   "source": [
    "## Using BeautifulSoup for extracting information from the website"
   ]
  },
  {
   "cell_type": "code",
   "execution_count": 7,
   "metadata": {},
   "outputs": [],
   "source": [
    "soup = BeautifulSoup(htmlContent, 'html.parser')"
   ]
  },
  {
   "cell_type": "code",
   "execution_count": 9,
   "metadata": {},
   "outputs": [
    {
     "name": "stdout",
     "output_type": "stream",
     "text": [
      "<title>Topics on GitHub · GitHub</title>\n",
      "Topics on GitHub · GitHub\n"
     ]
    }
   ],
   "source": [
    "# Extracting other informations\n",
    "\n",
    "title = soup.title\n",
    "print(title)\n",
    "print(title.string)"
   ]
  },
  {
   "cell_type": "code",
   "execution_count": null,
   "metadata": {},
   "outputs": [],
   "source": []
  },
  {
   "cell_type": "markdown",
   "metadata": {},
   "source": [
    "### Saving the html coded website in jupyter notebook using file handling system of Python"
   ]
  },
  {
   "cell_type": "code",
   "execution_count": 10,
   "metadata": {},
   "outputs": [],
   "source": [
    "url = \"https://github.com/topics/code-quality\"\n",
    "cq = requests.get(url)\n",
    "cs = cq.text\n",
    "\n",
    "\n",
    "\n",
    "with open('code_quality.html', 'w', encoding='utf-8') as f:\n",
    "    f.write(cs)"
   ]
  },
  {
   "cell_type": "code",
   "execution_count": null,
   "metadata": {},
   "outputs": [],
   "source": []
  },
  {
   "cell_type": "markdown",
   "metadata": {},
   "source": [
    "## Coding using BeautifulSoup and extracting information"
   ]
  },
  {
   "cell_type": "markdown",
   "metadata": {},
   "source": [
    "### Importing important file for csv and excel handling"
   ]
  },
  {
   "cell_type": "code",
   "execution_count": 11,
   "metadata": {
    "scrolled": true
   },
   "outputs": [
    {
     "name": "stdout",
     "output_type": "stream",
     "text": [
      "Collecting pandas\n",
      "  Using cached https://files.pythonhosted.org/packages/4d/16/8b4b0a04671c69e46ee15f42d288785e7cd20bf419db13ace92cf314051e/pandas-1.3.3-cp37-cp37m-win_amd64.whl\n",
      "Requirement already satisfied, skipping upgrade: pytz>=2017.3 in c:\\users\\harsh\\anaconda3\\lib\\site-packages (from pandas) (2019.1)\n",
      "Requirement already satisfied, skipping upgrade: numpy>=1.17.3 in c:\\users\\harsh\\anaconda3\\lib\\site-packages (from pandas) (1.21.2)\n",
      "Requirement already satisfied, skipping upgrade: python-dateutil>=2.7.3 in c:\\users\\harsh\\anaconda3\\lib\\site-packages (from pandas) (2.8.0)\n",
      "Requirement already satisfied, skipping upgrade: six>=1.5 in c:\\users\\harsh\\anaconda3\\lib\\site-packages (from python-dateutil>=2.7.3->pandas) (1.12.0)\n",
      "Installing collected packages: pandas\n",
      "  Found existing installation: pandas 0.24.2\n",
      "    Uninstalling pandas-0.24.2:\n",
      "      Successfully uninstalled pandas-0.24.2\n"
     ]
    },
    {
     "name": "stderr",
     "output_type": "stream",
     "text": [
      "ERROR: Could not install packages due to an EnvironmentError: [WinError 5] Access is denied: 'c:\\\\users\\\\harsh\\\\anaconda3\\\\lib\\\\site-packages\\\\~andas\\\\io\\\\msgpack\\\\_packer.cp37-win_amd64.pyd'\n",
      "Consider using the `--user` option or check the permissions.\n",
      "\n"
     ]
    },
    {
     "name": "stdout",
     "output_type": "stream",
     "text": [
      "Collecting openpyxl\n",
      "  Downloading https://files.pythonhosted.org/packages/1c/a6/8ce4d2ef2c29be3235c08bb00e0b81e29d38ebc47d82b17af681bf662b74/openpyxl-3.0.9-py2.py3-none-any.whl (242kB)\n",
      "Requirement already satisfied, skipping upgrade: et-xmlfile in c:\\users\\harsh\\anaconda3\\lib\\site-packages (from openpyxl) (1.0.1)\n",
      "Installing collected packages: openpyxl\n",
      "  Found existing installation: openpyxl 3.0.8\n",
      "    Uninstalling openpyxl-3.0.8:\n",
      "      Successfully uninstalled openpyxl-3.0.8\n",
      "Successfully installed openpyxl-3.0.9\n"
     ]
    }
   ],
   "source": [
    "!pip install pandas --upgrade\n",
    "!pip install openpyxl --upgrade"
   ]
  },
  {
   "cell_type": "code",
   "execution_count": 12,
   "metadata": {},
   "outputs": [
    {
     "name": "stderr",
     "output_type": "stream",
     "text": [
      "C:\\Users\\harsh\\Anaconda3\\lib\\site-packages\\pandas\\compat\\_optional.py:138: UserWarning: Pandas requires version '2.7.0' or newer of 'numexpr' (version '2.6.9' currently installed).\n",
      "  warnings.warn(msg, UserWarning)\n"
     ]
    }
   ],
   "source": [
    "import pandas as pd\n",
    "from openpyxl import Workbook"
   ]
  },
  {
   "cell_type": "code",
   "execution_count": null,
   "metadata": {},
   "outputs": [],
   "source": []
  },
  {
   "cell_type": "markdown",
   "metadata": {},
   "source": [
    "## Making the workbook using openpyxl  that will contain all the topic and list of topics/projects of that particular topic."
   ]
  },
  {
   "cell_type": "code",
   "execution_count": 31,
   "metadata": {},
   "outputs": [],
   "source": [
    "wb = Workbook()\n",
    "\n",
    "sheet = wb.active"
   ]
  },
  {
   "cell_type": "code",
   "execution_count": 27,
   "metadata": {},
   "outputs": [],
   "source": [
    "def sheetheading(sheetheads, sheetname):\n",
    "    '''\n",
    "    Headings to be put on the sheet is passed to this function along with sheetname. \n",
    "    This function will set heading of the sheet to the heading names passed and will make it bolder and italic.\n",
    "    '''\n",
    "    for i in range(0, len(sheetheads)):\n",
    "        e = sheetname.cell(row=1, column=i+1)\n",
    "        e.value = sheetheads[i]\n",
    "        e.font = e.font.copy(bold=True, italic=True)"
   ]
  },
  {
   "cell_type": "code",
   "execution_count": null,
   "metadata": {},
   "outputs": [],
   "source": []
  },
  {
   "cell_type": "markdown",
   "metadata": {},
   "source": [
    "# Scraping the HTML document\n",
    "**Extracting the information of HTML document**\n",
    "- going through each topic of main page\n",
    "- getting link of that page and looping through each project of that page\n",
    "- extracting information like project name, directory name, links, contributors, tags, stars, etc using BeautifulSoup\n",
    "\n",
    "**Working through sheets with openpyxl**\n",
    "- main worsheet is already created\n",
    "- with looping throught each topic, new worksheet is created using create_sheet method of openpyxl\n",
    "- setting the heading of the worksheet using sheetheading() function\n",
    "- adding information extracted in each step while looping through project of the particulat topic using .append() method in row wise manner.\n",
    "\n",
    "**Finally saving the sheet using .save() method of openpyxl\n",
    "\n",
    "## Method of creating the DataFrame\n",
    "- Each data of the project inside the topics are stored in list\n",
    "- after getting all the data in lists, a dictionary is created containing data heading and data in list manner\n",
    "- further using pandas pd.DataFrame to make the dataframe and saving it by .to_csv method."
   ]
  },
  {
   "cell_type": "code",
   "execution_count": null,
   "metadata": {},
   "outputs": [],
   "source": []
  },
  {
   "cell_type": "code",
   "execution_count": 28,
   "metadata": {},
   "outputs": [
    {
     "name": "stdout",
     "output_type": "stream",
     "text": [
      "Parsing HTML document...\n"
     ]
    },
    {
     "name": "stderr",
     "output_type": "stream",
     "text": [
      "C:\\Users\\harsh\\Anaconda3\\lib\\site-packages\\ipykernel_launcher.py:9: DeprecationWarning: Call to deprecated function copy (Use copy(obj) or cell.obj = cell.obj + other).\n",
      "  if __name__ == '__main__':\n"
     ]
    },
    {
     "name": "stdout",
     "output_type": "stream",
     "text": [
      "<-------------------DONE------------------->\n",
      "<-------------------DONE------------------->\n"
     ]
    }
   ],
   "source": [
    "directory_list = []\n",
    "directoryLink = []\n",
    "description_list = []\n",
    "project_names = []\n",
    "projectLink = []\n",
    "total_stars = []\n",
    "languageUsed = []\n",
    "all_tags = []\n",
    "project_topic = []\n",
    "\n",
    "print(\"Parsing HTML document...\")\n",
    "for topic in soup.find_all('div', {'class': 'py-4'}):\n",
    "    '''\n",
    "    Getting topic name, topic description, topic link and url of the page from the extracted soup.\n",
    "    '''\n",
    "    link = topic.a['href']\n",
    "    topic_name = topic.find('p', {'class': 'f3'}).string\n",
    "    description = topic.find('p', {'class': 'f5'}).string.strip()\n",
    "    page_url = 'https://github.com' + link\n",
    "        \n",
    "    # From each topic, getting subtopics by accessing through the url of the page extraxted.\n",
    "    p = requests.get(page_url)\n",
    "    pageContent = p.content\n",
    "    doc = BeautifulSoup(pageContent, 'lxml')\n",
    "    \n",
    "    '''\n",
    "    Creating the new sheet containing details of this particular webpage.\n",
    "    Details inclue directory and project names, links, tags, languages used in project, contributors, etc\n",
    "    '''\n",
    "    sheet1 = wb.create_sheet(topic_name)\n",
    "    \n",
    "    # Inserting heading to the sheet and making it bold, italic.\n",
    "    sheetinfo = ['DirectoryName', 'ProjectName','ProjectDescripton', 'DirectoryLink', 'ProjectLink', 'Stars', 'LanguageUsed', 'Tags']\n",
    "    sheetinfos = ['Project Topic', 'DirectoryName', 'ProjectName', 'DirectoryLink','ProjectDescripton', 'ProjectLink', 'Stars', 'LanguageUsed', 'Tags']\n",
    "    \n",
    "    sheetheading(sheetinfo, sheet1)        \n",
    "    sheetheading(sheetinfos, sheet)\n",
    "    \n",
    "    for project in doc.find_all('article', {'class': 'border rounded color-shadow-small color-bg-secondary my-4'}):\n",
    "        '''\n",
    "        Getting all the articles of page that contains the required data and extracting them.\n",
    "        '''\n",
    "        directory = project.find('div', {'class': 'px-3'}).h3.a.get_text().strip()\n",
    "        proj = project.find('div', {'class': 'px-3'}).h3.find('a',{'class':'wb-break-word'}).get_text().strip()\n",
    "        dir_link = \"https://github.com/\" + project.find('div', {'class': 'px-3'}).h3.a['href']\n",
    "        pro_link = \"https://github.com/\" + project.find('div', {'class': 'px-3'}).h3.find('a', {'class':'wb-break-word'})['href']\n",
    "        stars = project.find(class_='ml-3').find(class_='social-count').get_text().strip()\n",
    "        \n",
    "        des = project.find(class_=\"pt-3\")\n",
    "        if des is None:\n",
    "            desc = 'Read more'\n",
    "        else:\n",
    "            desc = des.div.get_text().strip()\n",
    "\n",
    "        lang = project.find('span', {'itemprop': 'programmingLanguage'})\n",
    "        if lang is None:\n",
    "            langs = ''\n",
    "        else:\n",
    "            langs = lang.get_text()\n",
    "            \n",
    "        tag = project.find('div', {'class': 'pb-2'})\n",
    "        tags = []\n",
    "        if tag is None:\n",
    "            tags = ''\n",
    "        else:\n",
    "            for anchor in tag.find_all('a'):\n",
    "                tags.append(anchor.get_text().strip())\n",
    "                \n",
    "        tags_str = ', '.join(tags)\n",
    "        \n",
    "        # The list created here will will be lated used to make dataframe.\n",
    "        \n",
    "        directory_list.append(directory)\n",
    "        directoryLink.append(dir_link)\n",
    "        description_list.append(desc)\n",
    "        project_names.append(proj)\n",
    "        projectLink.append(pro_link)\n",
    "        total_stars.append(stars)\n",
    "        languageUsed.append(langs)\n",
    "        all_tags.append(tags)\n",
    "        project_topic.append(topic_name)\n",
    "        \n",
    "        sheet1.append((directory, proj, dir_link, desc, pro_link, stars, langs, tags_str))\n",
    "        sheet.append((topic_name, directory, proj, dir_link, desc, pro_link, stars, langs, tags_str))\n",
    "    \n",
    "wb.save('gitdata.xlsx')\n",
    "print(\"<-------------------DONE------------------->\")\n",
    "\n",
    "column_data = [project_topic, directory_list, project_names, description_list, directoryLink,  projectLink, total_stars, languageUsed, all_tags]\n",
    "col_names = ['Project Topic', 'DirectoryName', 'ProjectName','ProjectDescripton', 'DirectoryLink', 'ProjectLink', 'Stars', 'LanguageUsed', 'Tags']\n",
    "\n",
    "# Creating the pandas dataframe out of the data extracted\n",
    "columns = dict(zip(col_names, column_data))\n",
    "git_df = pd.DataFrame(columns)\n",
    "print(\"<-------------------DONE------------------->\")"
   ]
  },
  {
   "cell_type": "code",
   "execution_count": 29,
   "metadata": {
    "scrolled": true
   },
   "outputs": [
    {
     "data": {
      "text/html": [
       "<div>\n",
       "<style scoped>\n",
       "    .dataframe tbody tr th:only-of-type {\n",
       "        vertical-align: middle;\n",
       "    }\n",
       "\n",
       "    .dataframe tbody tr th {\n",
       "        vertical-align: top;\n",
       "    }\n",
       "\n",
       "    .dataframe thead th {\n",
       "        text-align: right;\n",
       "    }\n",
       "</style>\n",
       "<table border=\"1\" class=\"dataframe\">\n",
       "  <thead>\n",
       "    <tr style=\"text-align: right;\">\n",
       "      <th></th>\n",
       "      <th>Project Topic</th>\n",
       "      <th>DirectoryName</th>\n",
       "      <th>ProjectName</th>\n",
       "      <th>ProjectDescripton</th>\n",
       "      <th>DirectoryLink</th>\n",
       "      <th>ProjectLink</th>\n",
       "      <th>Stars</th>\n",
       "      <th>LanguageUsed</th>\n",
       "      <th>Tags</th>\n",
       "    </tr>\n",
       "  </thead>\n",
       "  <tbody>\n",
       "    <tr>\n",
       "      <th>0</th>\n",
       "      <td>3D</td>\n",
       "      <td>mrdoob</td>\n",
       "      <td>three.js</td>\n",
       "      <td>JavaScript 3D Library.</td>\n",
       "      <td>https://github.com//mrdoob</td>\n",
       "      <td>https://github.com//mrdoob/three.js</td>\n",
       "      <td>74.4k</td>\n",
       "      <td>JavaScript</td>\n",
       "      <td>[javascript, svg, webgl, html5, canvas, augmen...</td>\n",
       "    </tr>\n",
       "    <tr>\n",
       "      <th>1</th>\n",
       "      <td>3D</td>\n",
       "      <td>libgdx</td>\n",
       "      <td>libgdx</td>\n",
       "      <td>Read more</td>\n",
       "      <td>https://github.com//libgdx</td>\n",
       "      <td>https://github.com//libgdx/libgdx</td>\n",
       "      <td>19k</td>\n",
       "      <td></td>\n",
       "      <td></td>\n",
       "    </tr>\n",
       "    <tr>\n",
       "      <th>2</th>\n",
       "      <td>3D</td>\n",
       "      <td>pmndrs</td>\n",
       "      <td>react-three-fiber</td>\n",
       "      <td>🇨🇭 A React renderer for Three.js</td>\n",
       "      <td>https://github.com//pmndrs</td>\n",
       "      <td>https://github.com//pmndrs/react-three-fiber</td>\n",
       "      <td>15.1k</td>\n",
       "      <td>TypeScript</td>\n",
       "      <td>[react, threejs, animation, renderer, fiber, 3d]</td>\n",
       "    </tr>\n",
       "    <tr>\n",
       "      <th>3</th>\n",
       "      <td>3D</td>\n",
       "      <td>BabylonJS</td>\n",
       "      <td>Babylon.js</td>\n",
       "      <td>Read more</td>\n",
       "      <td>https://github.com//BabylonJS</td>\n",
       "      <td>https://github.com//BabylonJS/Babylon.js</td>\n",
       "      <td>14.9k</td>\n",
       "      <td></td>\n",
       "      <td></td>\n",
       "    </tr>\n",
       "    <tr>\n",
       "      <th>4</th>\n",
       "      <td>3D</td>\n",
       "      <td>aframevr</td>\n",
       "      <td>aframe</td>\n",
       "      <td>🅰️ web framework for building virtual reality ...</td>\n",
       "      <td>https://github.com//aframevr</td>\n",
       "      <td>https://github.com//aframevr/aframe</td>\n",
       "      <td>13.1k</td>\n",
       "      <td>JavaScript</td>\n",
       "      <td>[html, threejs, game-engine, vr, webvr, virtua...</td>\n",
       "    </tr>\n",
       "    <tr>\n",
       "      <th>...</th>\n",
       "      <td>...</td>\n",
       "      <td>...</td>\n",
       "      <td>...</td>\n",
       "      <td>...</td>\n",
       "      <td>...</td>\n",
       "      <td>...</td>\n",
       "      <td>...</td>\n",
       "      <td>...</td>\n",
       "      <td>...</td>\n",
       "    </tr>\n",
       "    <tr>\n",
       "      <th>895</th>\n",
       "      <td>C++</td>\n",
       "      <td>compiler-explorer</td>\n",
       "      <td>compiler-explorer</td>\n",
       "      <td>Read more</td>\n",
       "      <td>https://github.com//compiler-explorer</td>\n",
       "      <td>https://github.com//compiler-explorer/compiler...</td>\n",
       "      <td>9.4k</td>\n",
       "      <td></td>\n",
       "      <td></td>\n",
       "    </tr>\n",
       "    <tr>\n",
       "      <th>896</th>\n",
       "      <td>C++</td>\n",
       "      <td>hmemcpy</td>\n",
       "      <td>milewski-ctfp-pdf</td>\n",
       "      <td>Bartosz Milewski's 'Category Theory for Progra...</td>\n",
       "      <td>https://github.com//hmemcpy</td>\n",
       "      <td>https://github.com//hmemcpy/milewski-ctfp-pdf</td>\n",
       "      <td>8.8k</td>\n",
       "      <td>TeX</td>\n",
       "      <td>[pdf, haskell, scala, latex, cpp, functional-p...</td>\n",
       "    </tr>\n",
       "    <tr>\n",
       "      <th>897</th>\n",
       "      <td>C++</td>\n",
       "      <td>codota</td>\n",
       "      <td>TabNine</td>\n",
       "      <td>AI Code Completions</td>\n",
       "      <td>https://github.com//codota</td>\n",
       "      <td>https://github.com//codota/TabNine</td>\n",
       "      <td>8.6k</td>\n",
       "      <td>Shell</td>\n",
       "      <td>[javascript, ruby, python, java, bash, swift, ...</td>\n",
       "    </tr>\n",
       "    <tr>\n",
       "      <th>898</th>\n",
       "      <td>C++</td>\n",
       "      <td>nasa</td>\n",
       "      <td>fprime</td>\n",
       "      <td>F' - A flight software and embedded systems fr...</td>\n",
       "      <td>https://github.com//nasa</td>\n",
       "      <td>https://github.com//nasa/fprime</td>\n",
       "      <td>8.5k</td>\n",
       "      <td>C++</td>\n",
       "      <td>[raspberry-pi, components, real-time, framewor...</td>\n",
       "    </tr>\n",
       "    <tr>\n",
       "      <th>899</th>\n",
       "      <td>C++</td>\n",
       "      <td>rigtorp</td>\n",
       "      <td>awesome-modern-cpp</td>\n",
       "      <td>A collection of resources on modern C++</td>\n",
       "      <td>https://github.com//rigtorp</td>\n",
       "      <td>https://github.com//rigtorp/awesome-modern-cpp</td>\n",
       "      <td>8.4k</td>\n",
       "      <td>HTML</td>\n",
       "      <td>[cpp, cpp14, cpp11, cpp17, cpp1z]</td>\n",
       "    </tr>\n",
       "  </tbody>\n",
       "</table>\n",
       "<p>900 rows × 9 columns</p>\n",
       "</div>"
      ],
      "text/plain": [
       "    Project Topic      DirectoryName         ProjectName  \\\n",
       "0              3D             mrdoob            three.js   \n",
       "1              3D             libgdx              libgdx   \n",
       "2              3D             pmndrs   react-three-fiber   \n",
       "3              3D          BabylonJS          Babylon.js   \n",
       "4              3D           aframevr              aframe   \n",
       "..            ...                ...                 ...   \n",
       "895           C++  compiler-explorer   compiler-explorer   \n",
       "896           C++            hmemcpy   milewski-ctfp-pdf   \n",
       "897           C++             codota             TabNine   \n",
       "898           C++               nasa              fprime   \n",
       "899           C++            rigtorp  awesome-modern-cpp   \n",
       "\n",
       "                                     ProjectDescripton  \\\n",
       "0                               JavaScript 3D Library.   \n",
       "1                                            Read more   \n",
       "2                     🇨🇭 A React renderer for Three.js   \n",
       "3                                            Read more   \n",
       "4    🅰️ web framework for building virtual reality ...   \n",
       "..                                                 ...   \n",
       "895                                          Read more   \n",
       "896  Bartosz Milewski's 'Category Theory for Progra...   \n",
       "897                                AI Code Completions   \n",
       "898  F' - A flight software and embedded systems fr...   \n",
       "899            A collection of resources on modern C++   \n",
       "\n",
       "                             DirectoryLink  \\\n",
       "0               https://github.com//mrdoob   \n",
       "1               https://github.com//libgdx   \n",
       "2               https://github.com//pmndrs   \n",
       "3            https://github.com//BabylonJS   \n",
       "4             https://github.com//aframevr   \n",
       "..                                     ...   \n",
       "895  https://github.com//compiler-explorer   \n",
       "896            https://github.com//hmemcpy   \n",
       "897             https://github.com//codota   \n",
       "898               https://github.com//nasa   \n",
       "899            https://github.com//rigtorp   \n",
       "\n",
       "                                           ProjectLink  Stars LanguageUsed  \\\n",
       "0                  https://github.com//mrdoob/three.js  74.4k   JavaScript   \n",
       "1                    https://github.com//libgdx/libgdx    19k                \n",
       "2         https://github.com//pmndrs/react-three-fiber  15.1k   TypeScript   \n",
       "3             https://github.com//BabylonJS/Babylon.js  14.9k                \n",
       "4                  https://github.com//aframevr/aframe  13.1k   JavaScript   \n",
       "..                                                 ...    ...          ...   \n",
       "895  https://github.com//compiler-explorer/compiler...   9.4k                \n",
       "896      https://github.com//hmemcpy/milewski-ctfp-pdf   8.8k          TeX   \n",
       "897                 https://github.com//codota/TabNine   8.6k        Shell   \n",
       "898                    https://github.com//nasa/fprime   8.5k          C++   \n",
       "899     https://github.com//rigtorp/awesome-modern-cpp   8.4k         HTML   \n",
       "\n",
       "                                                  Tags  \n",
       "0    [javascript, svg, webgl, html5, canvas, augmen...  \n",
       "1                                                       \n",
       "2     [react, threejs, animation, renderer, fiber, 3d]  \n",
       "3                                                       \n",
       "4    [html, threejs, game-engine, vr, webvr, virtua...  \n",
       "..                                                 ...  \n",
       "895                                                     \n",
       "896  [pdf, haskell, scala, latex, cpp, functional-p...  \n",
       "897  [javascript, ruby, python, java, bash, swift, ...  \n",
       "898  [raspberry-pi, components, real-time, framewor...  \n",
       "899                  [cpp, cpp14, cpp11, cpp17, cpp1z]  \n",
       "\n",
       "[900 rows x 9 columns]"
      ]
     },
     "execution_count": 29,
     "metadata": {},
     "output_type": "execute_result"
    }
   ],
   "source": [
    "git_df"
   ]
  },
  {
   "cell_type": "code",
   "execution_count": null,
   "metadata": {},
   "outputs": [],
   "source": []
  },
  {
   "cell_type": "markdown",
   "metadata": {},
   "source": [
    "## Saving the dataset using pandas to_csv method."
   ]
  },
  {
   "cell_type": "code",
   "execution_count": 30,
   "metadata": {},
   "outputs": [],
   "source": [
    "git_df.to_csv('githubdata.csv')"
   ]
  },
  {
   "cell_type": "code",
   "execution_count": null,
   "metadata": {},
   "outputs": [],
   "source": []
  },
  {
   "cell_type": "markdown",
   "metadata": {},
   "source": [
    "## git.df created here can be used in projects after its data analysis."
   ]
  }
 ],
 "metadata": {
  "kernelspec": {
   "display_name": "Python 3",
   "language": "python",
   "name": "python3"
  },
  "language_info": {
   "codemirror_mode": {
    "name": "ipython",
    "version": 3
   },
   "file_extension": ".py",
   "mimetype": "text/x-python",
   "name": "python",
   "nbconvert_exporter": "python",
   "pygments_lexer": "ipython3",
   "version": "3.7.3"
  }
 },
 "nbformat": 4,
 "nbformat_minor": 2
}
